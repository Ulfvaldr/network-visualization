{
 "cells": [
  {
   "cell_type": "markdown",
   "id": "66b61cfe",
   "metadata": {},
   "source": [
    "\n",
    "# Network Analysis using Plotly\n",
    "\n",
    "This notebook demonstrates how to use **Plotly** to analyze network data, visualize trends, and troubleshoot issues.\n"
   ]
  },
  {
   "cell_type": "code",
   "execution_count": null,
   "id": "dcda115a",
   "metadata": {},
   "outputs": [],
   "source": [
    "\n",
    "import pandas as pd\n",
    "import plotly.express as px\n",
    "import plotly.graph_objects as go\n",
    "import numpy as np\n"
   ]
  },
  {
   "cell_type": "code",
   "execution_count": null,
   "id": "d0b3ee12",
   "metadata": {},
   "outputs": [],
   "source": [
    "\n",
    "# Simulate network traffic data\n",
    "np.random.seed(42)\n",
    "timestamps = pd.date_range(start='2024-01-01', periods=100, freq='T')\n",
    "traffic_data = {\n",
    "    'Timestamp': timestamps,\n",
    "    'Upload_Speed_MBps': np.random.uniform(5, 50, size=100),\n",
    "    'Download_Speed_MBps': np.random.uniform(10, 100, size=100),\n",
    "    'Latency_ms': np.random.uniform(1, 10, size=100)\n",
    "}\n",
    "\n",
    "network_df = pd.DataFrame(traffic_data)\n",
    "network_df.head()\n"
   ]
  },
  {
   "cell_type": "code",
   "execution_count": null,
   "id": "46e64734",
   "metadata": {},
   "outputs": [],
   "source": [
    "\n",
    "# Visualize Upload and Download Speeds Over Time\n",
    "fig = px.line(network_df, x='Timestamp', y=['Upload_Speed_MBps', 'Download_Speed_MBps'],\n",
    "              labels={'value': 'Speed (MBps)', 'Timestamp': 'Time'},\n",
    "              title='Upload and Download Speeds Over Time')\n",
    "fig.update_layout(legend_title_text='Speed Type')\n",
    "fig.show()\n"
   ]
  },
  {
   "cell_type": "code",
   "execution_count": null,
   "id": "060bb66e",
   "metadata": {},
   "outputs": [],
   "source": [
    "\n",
    "# Visualize Latency Over Time\n",
    "fig = go.Figure()\n",
    "fig.add_trace(go.Scatter(x=network_df['Timestamp'], y=network_df['Latency_ms'], mode='lines+markers',\n",
    "                         name='Latency (ms)'))\n",
    "fig.update_layout(title='Network Latency Over Time',\n",
    "                  xaxis_title='Time',\n",
    "                  yaxis_title='Latency (ms)',\n",
    "                  template='plotly_dark')\n",
    "fig.show()\n"
   ]
  },
  {
   "cell_type": "code",
   "execution_count": null,
   "id": "2dfa1dd2",
   "metadata": {},
   "outputs": [],
   "source": [
    "\n",
    "# Bandwidth Utilization Histogram\n",
    "fig = px.histogram(network_df, x='Download_Speed_MBps', nbins=20, title='Download Speed Distribution',\n",
    "                   labels={'Download_Speed_MBps': 'Download Speed (MBps)'})\n",
    "fig.update_layout(template='plotly_white')\n",
    "fig.show()\n"
   ]
  }
 ],
 "metadata": {},
 "nbformat": 4,
 "nbformat_minor": 5
}
